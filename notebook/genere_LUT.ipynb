{
 "cells": [
  {
   "cell_type": "markdown",
   "metadata": {},
   "source": [
    "# Paramètres globaux, initialisation"
   ]
  },
  {
   "cell_type": "code",
   "execution_count": null,
   "metadata": {},
   "outputs": [],
   "source": [
    "nom_bandes = ['400', '412', '442', '490', '510', '560', '620', '665', \n",
    "              '674', '681', '709', '754', '761', '764', '768', '779', \n",
    "              '865', '885', '900', '940', '1020']\n",
    "ind_bandes = '1 2 3 4 5 6 7 8 9 10 11 12 13 14 15 16 17 18 19 20 21'\n",
    "\n",
    "runLUTtool  = '/home/jovyan/bin/run6SV.ksh'\n",
    "REP_in6SV   = 'NotUsed'\n",
    "satellite   = 'SENTINEL3B'\n",
    "capteur     = 'OLCIB'\n",
    "bande       = '400' #Il est possible aussi d'itérer sur toutes les bandes\n",
    "AER_NOM     = 'DESERT'\n",
    "AER_TYPE    = '5'\n",
    "NOMFICBANDE = 'Bande_%s_%s_%s.dat' % (satellite, capteur, bande)\n",
    "REP_out6SV  = 'NotUsed'\n",
    "REP_CODE_TR = 'NotUsed'\n",
    "REP_WORK    = 'NotUsed'\n",
    "ficJobArray = 'NotUsed'\n",
    "\n",
    "FIC_CAPTEUR='/home/jovyan/aux/rep6s_SENTINEL3B_OLCIB.dat'\n",
    "FICALLBANDS=FIC_CAPTEUR"
   ]
  },
  {
   "cell_type": "code",
   "execution_count": null,
   "metadata": {},
   "outputs": [],
   "source": [
    "import pandas as pd\n",
    "def generate_fic_band_6sV(fic_capteur, band_name, fic_out, nom_bandes):\n",
    "    all_bands_df = pd.read_csv(fic_capteur, delim_whitespace=True, names=['index'] + nom_bandes)\n",
    "    #On ne garde que la bande qui nous intéresse\n",
    "    band_df = all_bands_df.loc[:, ['index', band_name]]\n",
    "    #On ne garde que les valeur supérieurs à 0\n",
    "    band_df = band_df[band_df[band_name] > 0]\n",
    "\n",
    "    # Génération au format 6S : 1ere ligne longueur d'onde début et fin\n",
    "    # lignes suivantes, valeurs pour la bande donnée\n",
    "    index_values = list(band_df['index'])\n",
    "    band_values = list(band_df.iloc[:,1])\n",
    "    with open(fic_out, 'w') as f:\n",
    "        f.write(\"%.7E  %.7E\\n\" % (index_values[0], index_values[-1]))\n",
    "        for value in band_values:\n",
    "            f.write(\"%.7E\\n\" % value)"
   ]
  },
  {
   "cell_type": "code",
   "execution_count": null,
   "metadata": {},
   "outputs": [],
   "source": [
    "# Génération du fichier bande\n",
    "generate_fic_band_6sV(FIC_CAPTEUR, bande, ('/home/jovyan/Bande_SENTINEL3B_OLCIB_%s.dat' % bande), nom_bandes)"
   ]
  },
  {
   "cell_type": "code",
   "execution_count": null,
   "metadata": {},
   "outputs": [],
   "source": []
  },
  {
   "cell_type": "markdown",
   "metadata": {},
   "source": [
    "# Les paramètres de simu"
   ]
  },
  {
   "cell_type": "code",
   "execution_count": null,
   "metadata": {},
   "outputs": [],
   "source": [
    "#### Parametres de la LUT\n",
    "fields = ('u03', 'uw', 'ep_opt', 'psurf', 'alti', 'phi', 'thetas', 'thetav')\n",
    "\n",
    "# Azimuts relatifs\n",
    "tab_phi    = ('0', '20', '40', '60', '80', '100', '120', '140', '160', '180')\n",
    "# Angles zénitaux d'incidence\n",
    "tab_thetas = ('0', '5', '10', '15', '20', '25', '30', '35', '40', '45', '50', '55', '60')\n",
    "# Angles zénitaux de visée\n",
    "tab_thetav = ('0', '5', '10', '15', '20', '25', '30', '35', '40', '45', '50', '55', '60')\n",
    "# Vapeurs d'épaisseurs optiques\n",
    "tab_ep_opt = ('0.1', '0.2', '0.3', '0.4', '0.5', '0.6', '0.7')\n",
    "# Contenus en vapeur d'eau\n",
    "tab_uw     = ('0.0', '0.5', '1.0', '1.5', '2.0', '2.5', '3.0', '3.5', '4.0', '4.5', '5.0')\n",
    "# Contenus en ozone\n",
    "tab_uO3    = ('0.20', '0.40')\n",
    "# Altitudes\n",
    "tab_alti   = ('0.100', '0.355', '0.700')\n",
    "# Pressions atmosphériques\n",
    "tab_psurf  = ('940.0', '990.0', '1013.0', '1040.0')\n",
    "\n",
    "field_tabs = {'phi': tab_phi, 'thetas': tab_thetas, 'thetav': tab_thetav, \n",
    "              'ep_opt': tab_ep_opt, 'uw': tab_uw, 'u03': tab_uO3, 'alti': tab_alti, 'psurf': tab_psurf}"
   ]
  },
  {
   "cell_type": "code",
   "execution_count": null,
   "metadata": {},
   "outputs": [],
   "source": [
    "%%time\n",
    "#Création des paramètres de simulation\n",
    "lines = []\n",
    "for u03 in tab_uO3:\n",
    "    for uw in tab_uw:\n",
    "        for ep_opt in tab_ep_opt:\n",
    "            for psurf in tab_psurf:\n",
    "                for alti in tab_alti:\n",
    "                    for phi in tab_phi:\n",
    "                        for thetas in tab_thetas:\n",
    "                            for thetav in tab_thetav:\n",
    "                                lines += [' '.join((runLUTtool, REP_in6SV, satellite, capteur, bande, AER_NOM, AER_TYPE, thetav, phi, thetas, ep_opt, uw, u03, psurf, alti, NOMFICBANDE, REP_out6SV, REP_CODE_TR, REP_WORK))]\n"
   ]
  },
  {
   "cell_type": "code",
   "execution_count": null,
   "metadata": {},
   "outputs": [],
   "source": [
    "print(len(lines))\n",
    "print(lines[10])"
   ]
  },
  {
   "cell_type": "code",
   "execution_count": null,
   "metadata": {},
   "outputs": [],
   "source": [
    "# Exécution d'un appel à sisv\n",
    "import os\n",
    "from subprocess import Popen, PIPE\n",
    "def run_6v(cmd):\n",
    "    process = Popen(cmd.split(' '), stdout=PIPE, cwd='/home/jovyan/bin')\n",
    "    output, err = process.communicate()\n",
    "    exit_code = process.wait()\n",
    "    if exit_code != 0:\n",
    "        raise ValueError('Echec de la commande ' + cmd)\n",
    "    return output"
   ]
  },
  {
   "cell_type": "code",
   "execution_count": null,
   "metadata": {},
   "outputs": [],
   "source": [
    "run_6v(lines[15])"
   ]
  },
  {
   "cell_type": "markdown",
   "metadata": {},
   "source": [
    "# Dask sur Kubernetes"
   ]
  },
  {
   "cell_type": "code",
   "execution_count": null,
   "metadata": {},
   "outputs": [],
   "source": [
    "from dask_kubernetes import KubeCluster\n",
    "cluster = KubeCluster()\n",
    "cluster.scale(4)\n",
    "cluster"
   ]
  },
  {
   "cell_type": "code",
   "execution_count": null,
   "metadata": {},
   "outputs": [],
   "source": [
    "from dask.distributed import Client\n",
    "client = Client(cluster)\n",
    "client"
   ]
  },
  {
   "cell_type": "markdown",
   "metadata": {},
   "source": [
    "## Test de soumission"
   ]
  },
  {
   "cell_type": "code",
   "execution_count": null,
   "metadata": {},
   "outputs": [],
   "source": [
    "future = client.submit(run_6v, lines[15])\n",
    "result = client.gather(future)\n",
    "result"
   ]
  },
  {
   "cell_type": "code",
   "execution_count": null,
   "metadata": {},
   "outputs": [],
   "source": [
    "%%time\n",
    "futures = client.map(run_6v, lines[:1000])\n",
    "results = client.gather(futures)"
   ]
  },
  {
   "cell_type": "markdown",
   "metadata": {},
   "source": [
    "### Mode adaptatif"
   ]
  },
  {
   "cell_type": "code",
   "execution_count": null,
   "metadata": {},
   "outputs": [],
   "source": [
    "cluster.adapt(minimum=2, maximum=40)"
   ]
  },
  {
   "cell_type": "code",
   "execution_count": null,
   "metadata": {},
   "outputs": [],
   "source": [
    "futures = client.map(run_6v, lines[:10000])\n",
    "results = client.gather(futures)"
   ]
  },
  {
   "cell_type": "code",
   "execution_count": null,
   "metadata": {},
   "outputs": [],
   "source": [
    "results[0]"
   ]
  },
  {
   "cell_type": "code",
   "execution_count": null,
   "metadata": {},
   "outputs": [],
   "source": [
    "results[9999]"
   ]
  },
  {
   "cell_type": "code",
   "execution_count": null,
   "metadata": {},
   "outputs": [],
   "source": [
    "cluster.close()"
   ]
  },
  {
   "cell_type": "code",
   "execution_count": null,
   "metadata": {},
   "outputs": [],
   "source": []
  }
 ],
 "metadata": {
  "kernelspec": {
   "display_name": "Python 3",
   "language": "python",
   "name": "python3"
  },
  "language_info": {
   "codemirror_mode": {
    "name": "ipython",
    "version": 3
   },
   "file_extension": ".py",
   "mimetype": "text/x-python",
   "name": "python",
   "nbconvert_exporter": "python",
   "pygments_lexer": "ipython3",
   "version": "3.6.7"
  }
 },
 "nbformat": 4,
 "nbformat_minor": 2
}

